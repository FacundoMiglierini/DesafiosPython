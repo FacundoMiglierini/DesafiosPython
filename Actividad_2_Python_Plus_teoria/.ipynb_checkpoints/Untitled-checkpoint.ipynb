{
 "cells": [
  {
   "cell_type": "markdown",
   "id": "52264cc6",
   "metadata": {},
   "source": [
    "# Enunciado 3"
   ]
  },
  {
   "cell_type": "code",
   "execution_count": null,
   "id": "57401d2f",
   "metadata": {},
   "outputs": [],
   "source": [
    "import pandas as pd\n",
    "from matplotlib import plot as plt\n",
    "\n",
    "def abrir_archivo():\n",
    "    df = pd.read_csv('Datos de prueba.csv')\n",
    "    columns = ['Tiempo', 'Partida', 'Cantidad_palabras', 'Evento', 'Nick', \n",
    "               'Genero', 'Edad', 'Estado', 'Palabra', 'Nivel']\n",
    "    df.columns = columns\n",
    "    return df\n",
    "\n",
    "def ingresar_partida():\n",
    "    return int(input('Ingrese número de partida: '))\n",
    "\n",
    "def retornar_info_partida(df, num_partida):\n",
    "    return df[(df['Partida'] == num_partida) & (df['Evento'] == 'Intento')]\n",
    "\n",
    "df = abrir_archivo()\n",
    "ids = df[df['Partida'].unique()]\n",
    "print('IDs de partidas existentes en el dataset: ' + ids)\n",
    "num_partida = ingresar_partida()\n",
    "if num_partida in ids:\n",
    "    \n",
    "else:\n",
    "    print('No se ha encontrado una partida con dicho número.')"
   ]
  }
 ],
 "metadata": {
  "kernelspec": {
   "display_name": "Python 3",
   "language": "python",
   "name": "python3"
  },
  "language_info": {
   "codemirror_mode": {
    "name": "ipython",
    "version": 3
   },
   "file_extension": ".py",
   "mimetype": "text/x-python",
   "name": "python",
   "nbconvert_exporter": "python",
   "pygments_lexer": "ipython3",
   "version": "3.9.4"
  }
 },
 "nbformat": 4,
 "nbformat_minor": 5
}
