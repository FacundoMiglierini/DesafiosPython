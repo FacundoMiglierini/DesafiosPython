{
 "cells": [
  {
   "cell_type": "markdown",
   "id": "04aa98b1",
   "metadata": {},
   "source": [
    "**Nombre:** Facundo Miglierini\n",
    "# Parte 1\n",
    "## Enunciado asignado\n",
    "**Enunciado 3:** dado el archivo de registros de jugadas (eventos) de MemPy, mostrar un gráfico que dada una partida, muestre hasta 5 palabras con las que se jugó  y la cantidad de intentos  necesarios para encontrarlas. Para elegir la partida, deben mostrar los IDs existentes en el dataset y desde teclado ingresar la opción elegida."
   ]
  },
  {
   "cell_type": "code",
   "execution_count": null,
   "id": "51d63d6e",
   "metadata": {},
   "outputs": [],
   "source": [
    "import pandas as pd\n",
    "import numpy as np\n",
    "from matplotlib import pyplot as plt\n",
    "%matplotlib inline\n",
    "\n",
    "def abrir_archivo():\n",
    "    df = pd.read_csv('Datos de prueba.csv')\n",
    "    columns = ['Tiempo', 'Partida', 'Cantidad_palabras', 'Evento', 'Nick', \n",
    "               'Genero', 'Edad', 'Estado', 'Palabra', 'Nivel']\n",
    "    df.columns = columns\n",
    "    return df\n",
    "\n",
    "def ingresar_partida():\n",
    "    return int(input('Ingrese número de partida: '))\n",
    "\n",
    "def retornar_info_partida(df, num_partida):\n",
    "    return df[(df['Partida'] == num_partida) & (df['Evento'] == 'intento')]\n",
    "\n",
    "def generar_grafico(*data):\n",
    "    fig = plt.figure()\n",
    "    x = np.arange(len(data[0]))\n",
    "    \n",
    "    ax = fig.add_axes([0,0,0.75,0.75])\n",
    "    ax.bar(x, data[1], color = 'b', width = 0.2)\n",
    "\n",
    "    ax.set_xticks(x)\n",
    "    ax.set_xticklabels(data[0])\n",
    "    ax.set_xlabel(\"Palabras\")\n",
    "    ax.set_ylabel(\"Cantidad de intentos\")\n",
    "    plt.show()\n",
    "\n",
    "df = abrir_archivo()\n",
    "ids = df['Partida'].unique()\n",
    "print('IDs de partidas existentes en el dataset: ')\n",
    "print(ids)\n",
    "print('\\n'*2)\n",
    "num_partida = ingresar_partida()\n",
    "if num_partida in ids:\n",
    "    df = retornar_info_partida(df, num_partida)\n",
    "    df = df.groupby('Palabra')['Palabra'].count()[:5]\n",
    "    cantidades = df.values.tolist()\n",
    "    labels = df.index.tolist()\n",
    "    generar_grafico(labels, cantidades)\n",
    "else:\n",
    "    print('No se ha encontrado una partida con dicho ID.')"
   ]
  },
  {
   "cell_type": "markdown",
   "id": "c01ffa87",
   "metadata": {},
   "source": [
    "# Parte 2\n",
    "\n",
    "## Dataset: Países del Mundo\n",
    "\n",
    "### Criterio: Países de Asia y Oceanía\n",
    "Link: https://www.kaggle.com/fernandol/countries-of-the-world"
   ]
  },
  {
   "cell_type": "code",
   "execution_count": null,
   "id": "44f20de2",
   "metadata": {},
   "outputs": [],
   "source": [
    "from wordcloud import WordCloud, STOPWORDS\n",
    "import matplotlib.pyplot as plt\n",
    "import matplotlib.colors as cl\n",
    "import pandas as pd\n",
    "import numpy as np\n",
    "from PIL import Image\n",
    "\n",
    "def abrir_archivo():\n",
    "    rep = {'ASIA (EX. NEAR EAST)' : 'ASIA'}\n",
    "    df = pd.read_csv('countries_of_the_world.csv')\n",
    "    df['Region'] = df['Region'].apply(lambda x: x.rstrip()).replace(rep)\n",
    "    return df\n",
    "\n",
    "def filter_asia_oceania(df):\n",
    "    return df[(df['Region'] == 'ASIA') | (df['Region'] == 'OCEANIA')]['Country']\n",
    "\n",
    "def plot_cloud(wordcloud):\n",
    "    plt.figure(figsize=(40, 30))\n",
    "    plt.imshow(wordcloud)\n",
    "    plt.axis(\"off\");\n",
    "\n",
    "df = abrir_archivo()\n",
    "df = filter_asia_oceania(df)\n",
    "words = df.tolist()\n",
    "words = list(map(lambda x : x.rstrip().replace(' ', '_'), words))\n",
    "text = \" \".join(words)\n",
    "colores = [\"#25C785\", \"#3C8EFA\"]\n",
    "cmap = cl.LinearSegmentedColormap.from_list(\"World\", colores)\n",
    "\n",
    "mask = np.array(Image.open('Flag.png'))\n",
    "\n",
    "wordcloud = WordCloud(width = 600, height = 600, random_state=1,\n",
    "            background_color='white', colormap=cmap, collocations=False, \n",
    "            stopwords = STOPWORDS, mask=mask).generate(text)\n",
    "\n",
    "plot_cloud(wordcloud)\n"
   ]
  }
 ],
 "metadata": {
  "kernelspec": {
   "display_name": "Python 3",
   "language": "python",
   "name": "python3"
  },
  "language_info": {
   "codemirror_mode": {
    "name": "ipython",
    "version": 3
   },
   "file_extension": ".py",
   "mimetype": "text/x-python",
   "name": "python",
   "nbconvert_exporter": "python",
   "pygments_lexer": "ipython3",
   "version": "3.9.4"
  }
 },
 "nbformat": 4,
 "nbformat_minor": 5
}
